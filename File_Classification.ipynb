{
 "cells": [
  {
   "cell_type": "code",
   "execution_count": 1,
   "metadata": {},
   "outputs": [
    {
     "name": "stdout",
     "output_type": "stream",
     "text": [
      "C:/Users/Wooil/Desktop/2020학년도_2학기/소프트웨어융합개론/TermProject_개인용/00000_Mask_Mouth_Chin/Train\n"
     ]
    },
    {
     "ename": "FileNotFoundError",
     "evalue": "[WinError 2] 지정된 파일을 찾을 수 없습니다: 'C:/Users/Wooil/Desktop/2020학년도_2학기/소프트웨어융합개론/TermProject_개인용/00000_Mask_Mouth_Chin/Train/00000_Mask.jpg' -> 'C:/Users/Wooil/Desktop/2020학년도_2학기/소프트웨어융합개론/TermProject_개인용/00000_Mask_Mouth_Chin/Train/Mask/00000_Mask.jpg'",
     "output_type": "error",
     "traceback": [
      "\u001b[1;31m---------------------------------------------------------------------------\u001b[0m",
      "\u001b[1;31mFileNotFoundError\u001b[0m                         Traceback (most recent call last)",
      "\u001b[1;32m<ipython-input-1-5d9bc8843c7c>\u001b[0m in \u001b[0;36m<module>\u001b[1;34m\u001b[0m\n\u001b[0;32m     16\u001b[0m         \u001b[1;32mif\u001b[0m \u001b[1;32mnot\u001b[0m \u001b[0mos\u001b[0m\u001b[1;33m.\u001b[0m\u001b[0mpath\u001b[0m\u001b[1;33m.\u001b[0m\u001b[0mexists\u001b[0m\u001b[1;33m(\u001b[0m\u001b[0mdes_path\u001b[0m\u001b[1;33m)\u001b[0m\u001b[1;33m:\u001b[0m\u001b[1;33m\u001b[0m\u001b[1;33m\u001b[0m\u001b[0m\n\u001b[0;32m     17\u001b[0m             \u001b[0mos\u001b[0m\u001b[1;33m.\u001b[0m\u001b[0mmakedirs\u001b[0m\u001b[1;33m(\u001b[0m\u001b[0mdes_path\u001b[0m\u001b[1;33m)\u001b[0m\u001b[1;33m\u001b[0m\u001b[1;33m\u001b[0m\u001b[0m\n\u001b[1;32m---> 18\u001b[1;33m         \u001b[0mos\u001b[0m\u001b[1;33m.\u001b[0m\u001b[0mrenames\u001b[0m\u001b[1;33m(\u001b[0m\u001b[0mtrain_data_path\u001b[0m \u001b[1;33m+\u001b[0m \u001b[1;34m'/'\u001b[0m \u001b[1;33m+\u001b[0m \u001b[0mfile\u001b[0m\u001b[1;33m,\u001b[0m \u001b[0mdes_path\u001b[0m \u001b[1;33m+\u001b[0m\u001b[1;34m'/'\u001b[0m\u001b[1;33m+\u001b[0m\u001b[0mfile\u001b[0m\u001b[1;33m)\u001b[0m\u001b[1;33m\u001b[0m\u001b[1;33m\u001b[0m\u001b[0m\n\u001b[0m",
      "\u001b[1;32mE:\\Anaconda\\lib\\os.py\u001b[0m in \u001b[0;36mrenames\u001b[1;34m(old, new)\u001b[0m\n\u001b[0;32m    266\u001b[0m     \u001b[1;32mif\u001b[0m \u001b[0mhead\u001b[0m \u001b[1;32mand\u001b[0m \u001b[0mtail\u001b[0m \u001b[1;32mand\u001b[0m \u001b[1;32mnot\u001b[0m \u001b[0mpath\u001b[0m\u001b[1;33m.\u001b[0m\u001b[0mexists\u001b[0m\u001b[1;33m(\u001b[0m\u001b[0mhead\u001b[0m\u001b[1;33m)\u001b[0m\u001b[1;33m:\u001b[0m\u001b[1;33m\u001b[0m\u001b[1;33m\u001b[0m\u001b[0m\n\u001b[0;32m    267\u001b[0m         \u001b[0mmakedirs\u001b[0m\u001b[1;33m(\u001b[0m\u001b[0mhead\u001b[0m\u001b[1;33m)\u001b[0m\u001b[1;33m\u001b[0m\u001b[1;33m\u001b[0m\u001b[0m\n\u001b[1;32m--> 268\u001b[1;33m     \u001b[0mrename\u001b[0m\u001b[1;33m(\u001b[0m\u001b[0mold\u001b[0m\u001b[1;33m,\u001b[0m \u001b[0mnew\u001b[0m\u001b[1;33m)\u001b[0m\u001b[1;33m\u001b[0m\u001b[1;33m\u001b[0m\u001b[0m\n\u001b[0m\u001b[0;32m    269\u001b[0m     \u001b[0mhead\u001b[0m\u001b[1;33m,\u001b[0m \u001b[0mtail\u001b[0m \u001b[1;33m=\u001b[0m \u001b[0mpath\u001b[0m\u001b[1;33m.\u001b[0m\u001b[0msplit\u001b[0m\u001b[1;33m(\u001b[0m\u001b[0mold\u001b[0m\u001b[1;33m)\u001b[0m\u001b[1;33m\u001b[0m\u001b[1;33m\u001b[0m\u001b[0m\n\u001b[0;32m    270\u001b[0m     \u001b[1;32mif\u001b[0m \u001b[0mhead\u001b[0m \u001b[1;32mand\u001b[0m \u001b[0mtail\u001b[0m\u001b[1;33m:\u001b[0m\u001b[1;33m\u001b[0m\u001b[1;33m\u001b[0m\u001b[0m\n",
      "\u001b[1;31mFileNotFoundError\u001b[0m: [WinError 2] 지정된 파일을 찾을 수 없습니다: 'C:/Users/Wooil/Desktop/2020학년도_2학기/소프트웨어융합개론/TermProject_개인용/00000_Mask_Mouth_Chin/Train/00000_Mask.jpg' -> 'C:/Users/Wooil/Desktop/2020학년도_2학기/소프트웨어융합개론/TermProject_개인용/00000_Mask_Mouth_Chin/Train/Mask/00000_Mask.jpg'"
     ]
    }
   ],
   "source": [
    "import os\n",
    "\n",
    "data_path = 'C:/Users/Wooil/Desktop/2020학년도_2학기/소프트웨어융합개론/TermProject_개인용/00000_Mask_Mouth_Chin'\n",
    "# 파일 디렉토리\n",
    "train_data_path = data_path + '/Train'\n",
    "# 파일 디렉토리 속 분류 할 폴더\n",
    "file_list = os.listdir(data_path)\n",
    "\n",
    "\n",
    "print(train_data_path)\n",
    "for root, dirs, files in os.walk(data_path):\n",
    "    for file in files:\n",
    "        str_class_name = file.split('.')[0]\n",
    "        str_class_name_2 = str_class_name.split('_')[1:]\n",
    "        str_class_name_join = ''.join(str_class_name_2)\n",
    "        # file이름이 숫자_mask_mouth_chin.jpg의 형태이므로 위와 같은 방식으로 폴더명 만들기\n",
    "        des_path = data_path + '/Train' + '/' + str_class_name_join\n",
    "        # 폴더 위치\n",
    "        if not os.path.exists(des_path):\n",
    "            os.makedirs(des_path)\n",
    "        os.renames(train_data_path + '/' + file, des_path +'/'+file)\n",
    "        # 파일 옮기기\n",
    "\n",
    "# Delete\n"
   ]
  },
  {
   "cell_type": "code",
   "execution_count": null,
   "metadata": {},
   "outputs": [],
   "source": []
  }
 ],
 "metadata": {
  "kernelspec": {
   "display_name": "Python 3",
   "language": "python",
   "name": "python3"
  },
  "language_info": {
   "codemirror_mode": {
    "name": "ipython",
    "version": 3
   },
   "file_extension": ".py",
   "mimetype": "text/x-python",
   "name": "python",
   "nbconvert_exporter": "python",
   "pygments_lexer": "ipython3",
   "version": "3.7.6"
  }
 },
 "nbformat": 4,
 "nbformat_minor": 4
}
