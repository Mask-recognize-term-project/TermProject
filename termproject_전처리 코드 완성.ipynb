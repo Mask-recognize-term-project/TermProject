{
 "cells": [
  {
   "cell_type": "code",
   "execution_count": 1,
   "metadata": {},
   "outputs": [
    {
     "name": "stdout",
     "output_type": "stream",
     "text": [
      "Mask  :  C:\\Users\\Sion\\Desktop\\1-2 자료\\train(O)\\00000\\00000_Mask.jpg\n",
      "Mask  :  C:\\Users\\Sion\\Desktop\\1-2 자료\\train(O)\\00000\\00105_Mask.jpg\n",
      "Mask  :  C:\\Users\\Sion\\Desktop\\1-2 자료\\train(O)\\00000\\00210_Mask.jpg\n",
      "Mask  :  C:\\Users\\Sion\\Desktop\\1-2 자료\\train(O)\\00000\\00311_Mask.jpg\n",
      "Mask  :  C:\\Users\\Sion\\Desktop\\1-2 자료\\train(O)\\00000\\00416_Mask.jpg\n",
      "Mask  :  C:\\Users\\Sion\\Desktop\\1-2 자료\\train(O)\\00000\\00519_Mask.jpg\n",
      "Mask  :  C:\\Users\\Sion\\Desktop\\1-2 자료\\train(O)\\00000\\00626_Mask.jpg\n",
      "Mask  :  C:\\Users\\Sion\\Desktop\\1-2 자료\\train(O)\\00000\\00736_Mask.jpg\n",
      "Mask  :  C:\\Users\\Sion\\Desktop\\1-2 자료\\train(O)\\00000\\00840_Mask.jpg\n",
      "Mask  :  C:\\Users\\Sion\\Desktop\\1-2 자료\\train(O)\\00000\\00949_Mask.jpg\n",
      "Mask_Mouth_Chin  :  C:\\Users\\Sion\\Desktop\\1-2 자료\\train(O)\\00000\\00000_Mask_Mouth_Chin.jpg\n",
      "Mask_Mouth_Chin  :  C:\\Users\\Sion\\Desktop\\1-2 자료\\train(O)\\00000\\00122_Mask_Mouth_Chin.jpg\n",
      "Mask_Mouth_Chin  :  C:\\Users\\Sion\\Desktop\\1-2 자료\\train(O)\\00000\\00249_Mask_Mouth_Chin.jpg\n",
      "Mask_Mouth_Chin  :  C:\\Users\\Sion\\Desktop\\1-2 자료\\train(O)\\00000\\00363_Mask_Mouth_Chin.jpg\n",
      "Mask_Mouth_Chin  :  C:\\Users\\Sion\\Desktop\\1-2 자료\\train(O)\\00000\\00488_Mask_Mouth_Chin.jpg\n",
      "Mask_Mouth_Chin  :  C:\\Users\\Sion\\Desktop\\1-2 자료\\train(O)\\00000\\00607_Mask_Mouth_Chin.jpg\n",
      "Mask_Mouth_Chin  :  C:\\Users\\Sion\\Desktop\\1-2 자료\\train(O)\\00000\\00732_Mask_Mouth_Chin.jpg\n",
      "Mask_Mouth_Chin  :  C:\\Users\\Sion\\Desktop\\1-2 자료\\train(O)\\00000\\00850_Mask_Mouth_Chin.jpg\n",
      "Mask_Mouth_Chin  :  C:\\Users\\Sion\\Desktop\\1-2 자료\\train(O)\\00000\\00983_Mask_Mouth_Chin.jpg\n",
      "Mask_Chin  :  C:\\Users\\Sion\\Desktop\\1-2 자료\\train(O)\\00000\\00001_Mask_Chin.jpg\n",
      "1861\n",
      "1861\n",
      "1674\n",
      "187\n",
      "1674\n",
      "187\n"
     ]
    }
   ],
   "source": [
    "from PIL import Image\n",
    "import os, glob, sys, numpy as np\n",
    "from sklearn.model_selection import train_test_split\n",
    "from keras.utils import np_utils\n",
    "\n",
    "\n",
    "img_dir = 'C:\\\\Users\\\\Sion\\\\Desktop\\\\1-2 자료\\\\train(O)\\\\00000' # 이미지들이 모여있는 파일 이름(000000)\n",
    "categories = ['Mask','Mask_Mouth_Chin','Mask_Chin'] # 마스크 여부 카테고리 (후에 아예 마스크 안 낀 사진도 추가하자)\n",
    "# np_classes = len(categories) (아직은 필요없을 코드)\n",
    "\n",
    "image_w = 64\n",
    "image_h = 64\n",
    "\n",
    "\n",
    "# pixel = image_h * image_w * 3(아직은 필요없을 코드)\n",
    "\n",
    "X = []\n",
    "Y = []\n",
    "\n",
    "\n",
    "for num,categ in enumerate(categories):\n",
    "    img_dir_detail = img_dir+'\\\\' #이미지 파일 안으로 접속\n",
    "    file_path = glob.glob(img_dir_detail+'?????_'+categ+'.jpg') # Massk 제대로 낀 것 부터 차례대로 그 위치 나열\n",
    "    \n",
    "    for i,f in enumerate(file_path):\n",
    "        img = Image.open(f)\n",
    "        img = img.convert(\"RGB\")\n",
    "        img = img.resize((image_w, image_h))\n",
    "        data = np.asarray(img)\n",
    "        X.append(data) # 마스크 사진들\n",
    "        Y.append(num) # X 사진들의 라벨(0,1,2는 각각 'Mask','Mask_Mouth_Chin','Mask_Chin')\n",
    "        \n",
    "        #진행상황 알려주는 코드\n",
    "        if i % 100 == 0: \n",
    "            print(categ, \" : \", f)\n",
    "        \n",
    "\n",
    "\n",
    "X = np.array(X)\n",
    "Y = np.array(Y)\n",
    "\n",
    "# X,Y 길이 같은지 점검\n",
    "print(len(X))\n",
    "print(len(Y))\n",
    "\n",
    "# training 세트와 test 세트 비율 0.1\n",
    "X_train, X_test, Y_train, Y_test = train_test_split(X, Y, test_size=0.1)\n",
    "\n",
    "print(len(X_train))\n",
    "print(len(X_test))\n",
    "print(len(Y_train))\n",
    "print(len(Y_test))"
   ]
  }
 ],
 "metadata": {
  "kernelspec": {
   "display_name": "Python 3",
   "language": "python",
   "name": "python3"
  },
  "language_info": {
   "codemirror_mode": {
    "name": "ipython",
    "version": 3
   },
   "file_extension": ".py",
   "mimetype": "text/x-python",
   "name": "python",
   "nbconvert_exporter": "python",
   "pygments_lexer": "ipython3",
   "version": "3.7.6"
  }
 },
 "nbformat": 4,
 "nbformat_minor": 4
}
